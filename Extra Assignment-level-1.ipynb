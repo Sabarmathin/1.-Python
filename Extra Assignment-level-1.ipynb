{
 "cells": [
  {
   "cell_type": "code",
   "execution_count": 1,
   "id": "5236b5a1-06d9-40b3-b59b-b259c1afd912",
   "metadata": {},
   "outputs": [
    {
     "name": "stdout",
     "output_type": "stream",
     "text": [
      "HOPE AI\n"
     ]
    }
   ],
   "source": [
    "#print Statement\n",
    "print(\"HOPE AI\")"
   ]
  },
  {
   "cell_type": "code",
   "execution_count": 2,
   "id": "5b863641-13e4-4dbf-a7c5-7d6087a55fa6",
   "metadata": {},
   "outputs": [
    {
     "name": "stdin",
     "output_type": "stream",
     "text": [
      "Enter your institute name? : HOPE AI\n"
     ]
    }
   ],
   "source": [
    "# Buy input\n",
    "buyinput = input(\"Enter your institute name? :\")"
   ]
  },
  {
   "cell_type": "code",
   "execution_count": 3,
   "id": "adaff26e-ad57-4c7c-9058-7140fd08d2c1",
   "metadata": {},
   "outputs": [
    {
     "name": "stdin",
     "output_type": "stream",
     "text": [
      "Enter your name: Raj\n",
      "Enter your age: 15\n",
      "Enter your school name: Guru school\n",
      "Enter your drgree: B.E CSE\n"
     ]
    }
   ],
   "source": [
    "#Buy inputs\n",
    "name = input(\"Enter your name:\")\n",
    "age = input(\"Enter your age:\")\n",
    "schoolname = input(\"Enter your school name:\")\n",
    "degree = input(\"Enter your drgree:\")"
   ]
  },
  {
   "cell_type": "code",
   "execution_count": 17,
   "id": "12e888b3-1854-4562-bf01-5628db832b0f",
   "metadata": {},
   "outputs": [
    {
     "name": "stdin",
     "output_type": "stream",
     "text": [
      "a= 43\n",
      "b= 34\n"
     ]
    },
    {
     "name": "stdout",
     "output_type": "stream",
     "text": [
      "add = 77\n"
     ]
    }
   ],
   "source": [
    "#Addition\n",
    "a = int(input(\"a=\"))\n",
    "b = int (input(\"b=\"))\n",
    "add = a + b\n",
    "print(\"add =\",add)"
   ]
  },
  {
   "cell_type": "code",
   "execution_count": 7,
   "id": "c4094214-f365-436d-aa6a-45f538295a07",
   "metadata": {},
   "outputs": [
    {
     "name": "stdin",
     "output_type": "stream",
     "text": [
      "a= 43\n",
      "b= 34\n"
     ]
    },
    {
     "name": "stdout",
     "output_type": "stream",
     "text": [
      "Sub = 9\n"
     ]
    }
   ],
   "source": [
    "#Subtraction\n",
    "a = int(input(\"a=\"))\n",
    "b = int (input(\"b=\"))\n",
    "Sub = a - b\n",
    "print(\"Sub =\",Sub)"
   ]
  },
  {
   "cell_type": "code",
   "execution_count": 8,
   "id": "2a79ca45-0520-4d59-8b95-181a1a9fbf21",
   "metadata": {},
   "outputs": [
    {
     "name": "stdin",
     "output_type": "stream",
     "text": [
      "a= 63\n",
      "b= 97\n"
     ]
    },
    {
     "name": "stdout",
     "output_type": "stream",
     "text": [
      "Mul = 6111\n"
     ]
    }
   ],
   "source": [
    "#Multiplication\n",
    "a = int(input(\"a=\"))\n",
    "b = int (input(\"b=\"))\n",
    "Mul = a * b\n",
    "print(\"Mul =\",Mul)"
   ]
  },
  {
   "cell_type": "code",
   "execution_count": 10,
   "id": "48e115c4-0e2f-458b-abe5-e7ce721cfd5e",
   "metadata": {},
   "outputs": [
    {
     "name": "stdin",
     "output_type": "stream",
     "text": [
      "a= 76\n",
      "b= 31\n"
     ]
    },
    {
     "name": "stdout",
     "output_type": "stream",
     "text": [
      "Float Div = 2.4516129032258065\n"
     ]
    }
   ],
   "source": [
    "#Division\n",
    "a = int(input(\"a=\"))\n",
    "b = int (input(\"b=\"))\n",
    "Div = a / b\n",
    "print(\"Float Div =\",float(Div))"
   ]
  },
  {
   "cell_type": "code",
   "execution_count": 14,
   "id": "fc439f1a-bb87-4df0-9989-1d657de7e220",
   "metadata": {},
   "outputs": [
    {
     "name": "stdin",
     "output_type": "stream",
     "text": [
      "a= 76\n",
      "b= 31\n"
     ]
    },
    {
     "name": "stdout",
     "output_type": "stream",
     "text": [
      "Floor Div = 2\n"
     ]
    }
   ],
   "source": [
    "#Floor division\n",
    "a = int(input(\"a=\"))\n",
    "b = int (input(\"b=\"))\n",
    "Floordiv = a // b\n",
    "print(\"Floor Div =\",Floordiv)"
   ]
  },
  {
   "cell_type": "code",
   "execution_count": 15,
   "id": "717d7638-6755-4f1a-a7af-dab11192d4a4",
   "metadata": {},
   "outputs": [
    {
     "name": "stdin",
     "output_type": "stream",
     "text": [
      "a= 76\n",
      "b= 31\n"
     ]
    },
    {
     "name": "stdout",
     "output_type": "stream",
     "text": [
      "Modulo = 14\n"
     ]
    }
   ],
   "source": [
    "#Modulo\n",
    "a = int(input(\"a=\"))\n",
    "b = int (input(\"b=\"))\n",
    "modulo = a % b\n",
    "print(\"Modulo =\",modulo)"
   ]
  },
  {
   "cell_type": "code",
   "execution_count": 16,
   "id": "250a9f60-967f-4940-9b75-cd81ddabe584",
   "metadata": {},
   "outputs": [
    {
     "name": "stdin",
     "output_type": "stream",
     "text": [
      "a= 4\n",
      "b= 4\n"
     ]
    },
    {
     "name": "stdout",
     "output_type": "stream",
     "text": [
      "Power = 256\n"
     ]
    }
   ],
   "source": [
    "#Power\n",
    "a = int(input(\"a=\"))\n",
    "b = int (input(\"b=\"))\n",
    "power = a ** b\n",
    "print(\"Power =\",power)"
   ]
  },
  {
   "cell_type": "code",
   "execution_count": null,
   "id": "b95c5b50-42ec-4049-9aea-0697b3ce0b28",
   "metadata": {},
   "outputs": [],
   "source": []
  }
 ],
 "metadata": {
  "kernelspec": {
   "display_name": "Python 3 (ipykernel)",
   "language": "python",
   "name": "python3"
  },
  "language_info": {
   "codemirror_mode": {
    "name": "ipython",
    "version": 3
   },
   "file_extension": ".py",
   "mimetype": "text/x-python",
   "name": "python",
   "nbconvert_exporter": "python",
   "pygments_lexer": "ipython3",
   "version": "3.13.5"
  }
 },
 "nbformat": 4,
 "nbformat_minor": 5
}
